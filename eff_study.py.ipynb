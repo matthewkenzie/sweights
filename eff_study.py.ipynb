{
 "cells": [
  {
   "cell_type": "code",
   "execution_count": 15,
   "metadata": {},
   "outputs": [
    {
     "data": {
      "text/plain": [
       "[<matplotlib.lines.Line2D at 0x7fa2def4fca0>]"
      ]
     },
     "execution_count": 15,
     "metadata": {},
     "output_type": "execute_result"
    },
    {
     "data": {
      "image/png": "[encoded data removed]",
      "text/plain": [
       "<Figure size 432x288 with 1 Axes>"
      ]
     },
     "metadata": {
      "needs_background": "light"
     },
     "output_type": "display_data"
    }
   ],
   "source": [
    "### We are now going to see what happens with the practical example when we introduce an efficiency term\n",
    "\n",
    "import numpy as np\n",
    "from scipy import stats\n",
    "from scipy.stats import norm, expon, powerlaw\n",
    "from matplotlib import pyplot as plt\n",
    "from matplotlib import gridspec\n",
    "from matplotlib import cm\n",
    "\n",
    "class eff_profile(stats.rv_continuous):\n",
    "    def __pdf(self,x,y):\n",
    "        return x*y\n",
    "\n",
    "np.random.seed(1)  # fix seed\n",
    "\n",
    "# true parameters for signal and background\n",
    "truth_n_sig = 500\n",
    "truth_n_bkg = 2000\n",
    "\n",
    "# signal mass gauss:(mean, sigma)\n",
    "truth_sig_m = (5280, 30)\n",
    "# background mass expo:(loc, scale)\n",
    "truth_bkg_m = (5000,400,)\n",
    "# signal time expo:(loc, scale)\n",
    "truth_sig_t = (0, 2.0,)\n",
    "# background time gauss:(mean, sigma)\n",
    "truth_bkg_t = (0., 3.0)\n",
    "\n",
    "# make the pdfs\n",
    "sig_pdf_mass = norm(*truth_sig_m)\n",
    "bkg_pdf_mass = expon(*truth_bkg_m)\n",
    "sig_pdf_time = expon(*truth_sig_t)\n",
    "bkg_pdf_time = norm(*truth_bkg_t)\n",
    "\n",
    "# eff func\n",
    "eff_pdf = powerlaw(1.2,-3,13)\n",
    "\n",
    "# plot the pdfs\n",
    "mrange = (5000,5600)\n",
    "trange = (0,10)\n",
    "mass = np.linspace(*mrange,500)\n",
    "time = np.linspace(*trange,500)\n",
    "\n",
    "fig, ax = plt.subplots(1,1,figsize=(6,4))\n",
    "ax.plot(time, eff_pdf.pdf(time)/np.diff(eff_pdf.cdf(trange)))"
   ]
  },
  {
   "cell_type": "code",
   "execution_count": null,
   "metadata": {},
   "outputs": [],
   "source": []
  }
 ],
 "metadata": {
  "kernelspec": {
   "display_name": "Python 3",
   "language": "python",
   "name": "python3"
  },
  "language_info": {
   "codemirror_mode": {
    "name": "ipython",
    "version": 3
   },
   "file_extension": ".py",
   "mimetype": "text/x-python",
   "name": "python",
   "nbconvert_exporter": "python",
   "pygments_lexer": "ipython3",
   "version": "3.8.2"
  }
 },
 "nbformat": 4,
 "nbformat_minor": 4
}
