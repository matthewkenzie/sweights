{
 "cells": [
  {
   "cell_type": "markdown",
   "metadata": {},
   "source": [
    "# Appendix F4: sWeights\n",
    "\n",
    "We show four ways of computing sWeights, from the classic methods described in the [sPlot paper](https://doi.org/10.1016/j.nima.2005.08.106) to the new methods via direct integration derived by Michael Schmelling. The find that the best method, the summation method, is not what is commonly used, despite being simple to apply."
   ]
  },
  {
   "cell_type": "markdown",
   "metadata": {},
   "source": [
    "## Generate and visualize toy data sets\n",
    "\n",
    "We use a classic toy example to illustrate with a discriminant variable m (\"invariant mass\") and a control variable t (\"decay time\"). The signal in the m distribution is a gaussian, the background is exponential. In the t variable it is vice versa, the signal is exponential and the background is a (broad) gaussian."
   ]
  },
  {
   "cell_type": "code",
   "execution_count": 1,
   "metadata": {},
   "outputs": [
    {
     "data": {
      "image/png": "[encoded data removed]",
      "text/plain": [
       "<Figure size 1008x288 with 3 Axes>"
      ]
     },
     "metadata": {
      "needs_background": "light"
     },
     "output_type": "display_data"
    }
   ],
   "source": [
    "# !pip install matplotlib numpy scipy iminuit\n",
    "import numpy as np\n",
    "from scipy.stats import norm, expon, poisson\n",
    "from matplotlib import pyplot as plt\n",
    "\n",
    "np.random.seed(1)  # fix seed\n",
    "\n",
    "# true parameters for signal and background\n",
    "truth_n_sig = 1000\n",
    "truth_n_bkg = 10000\n",
    "truth_sig_m = (5.0, 0.5)\n",
    "truth_bkg_m = (4.,)\n",
    "truth_sig_t = (1.0,)\n",
    "truth_bkg_t = (2.5, 2.0)\n",
    "\n",
    "# make a data set\n",
    "m = np.empty(truth_n_sig + truth_n_bkg)\n",
    "t = np.empty_like(m)\n",
    "\n",
    "# fill m variables\n",
    "m[:truth_n_sig] = norm(*truth_sig_m).rvs(truth_n_sig)\n",
    "m[truth_n_sig:] = expon(0, *truth_bkg_m).rvs(truth_n_bkg)\n",
    "\n",
    "# fill t variables\n",
    "t[:truth_n_sig] = expon(0, *truth_sig_t).rvs(truth_n_sig)\n",
    "t[truth_n_sig:] = norm(*truth_bkg_t).rvs(truth_n_bkg)\n",
    "\n",
    "# cut out range (0, 10) in m, t\n",
    "xrange = (0, 10)\n",
    "ma = (0 < m) & (m < 10) & (0 < t) & (t < 10)\n",
    "m = m[ma]\n",
    "t = t[ma]\n",
    "\n",
    "fig, ax = plt.subplots(1, 3, figsize=(14, 4))\n",
    "ax[0].hist2d(m, t, bins=(50, 50))\n",
    "ax[0].set_xlabel(\"m\")\n",
    "ax[0].set_ylabel(\"t\")\n",
    "ax[1].hist((m[truth_n_sig:], m[:truth_n_sig]), bins=50, stacked=True, label=(\"background\", \"signal\"))\n",
    "ax[1].set_xlabel(\"m\")\n",
    "ax[1].legend()\n",
    "ax[2].hist((t[truth_n_sig:], t[:truth_n_sig]), bins=50, stacked=True, label=(\"background\", \"signal\"))\n",
    "ax[2].set_xlabel(\"t\")\n",
    "ax[2].legend();"
   ]
  },
  {
   "cell_type": "markdown",
   "metadata": {},
   "source": [
    "## Fit toy data set"
   ]
  },
  {
   "cell_type": "code",
   "execution_count": 2,
   "metadata": {},
   "outputs": [
    {
     "data": {
      "text/html": [
       "<table>\n",
       "<tr>\n",
       "<td colspan=\"2\" title=\"Minimum value of function\">\n",
       "FCN = -5.594E+04\n",
       "</td>\n",
       "<td align=\"center\" colspan=\"3\" title=\"No. of calls in last algorithm and total number of calls\">\n",
       "Ncalls = 122 (122 total)\n",
       "</td>\n",
       "</tr>\n",
       "<tr>\n",
       "<td colspan=\"2\" title=\"Estimated distance to minimum and target threshold\">\n",
       "EDM = 3.62E-05 (Goal: 0.0001)\n",
       "</td>\n",
       "<td align=\"center\" colspan=\"3\" title=\"Increase in FCN which corresponds to 1 standard deviation\">\n",
       "up = 0.5\n",
       "</td>\n",
       "</tr>\n",
       "<tr>\n",
       "<td align=\"center\" title=\"Validity of the migrad call\">\n",
       "Valid Min.\n",
       "</td>\n",
       "<td align=\"center\" title=\"Validity of parameters\">\n",
       "Valid Param.\n",
       "</td>\n",
       "<td align=\"center\" title=\"Is EDM above goal EDM?\">\n",
       "Above EDM\n",
       "</td>\n",
       "<td align=\"center\" colspan=\"2\" title=\"Did last migrad call reach max call limit?\">\n",
       "Reached call limit\n",
       "</td>\n",
       "</tr>\n",
       "<tr>\n",
       "<td align=\"center\" style=\"background-color:#92CCA6;\">\n",
       "True\n",
       "</td>\n",
       "<td align=\"center\" style=\"background-color:#92CCA6;\">\n",
       "True\n",
       "</td>\n",
       "<td align=\"center\" style=\"background-color:#92CCA6;\">\n",
       "False\n",
       "</td>\n",
       "<td align=\"center\" colspan=\"2\" style=\"background-color:#92CCA6;\">\n",
       "False\n",
       "</td>\n",
       "</tr>\n",
       "<tr>\n",
       "<td align=\"center\" title=\"Did Hesse fail?\">\n",
       "Hesse failed\n",
       "</td>\n",
       "<td align=\"center\" title=\"Has covariance matrix\">\n",
       "Has cov.\n",
       "</td>\n",
       "<td align=\"center\" title=\"Is covariance matrix accurate?\">\n",
       "Accurate\n",
       "</td>\n",
       "<td align=\"center\" title=\"Is covariance matrix positive definite?\">\n",
       "Pos. def.\n",
       "</td>\n",
       "<td align=\"center\" title=\"Was positive definiteness enforced by Minuit?\">\n",
       "Forced\n",
       "</td>\n",
       "</tr>\n",
       "<tr>\n",
       "<td align=\"center\" style=\"background-color:#92CCA6;\">\n",
       "False\n",
       "</td>\n",
       "<td align=\"center\" style=\"background-color:#92CCA6;\">\n",
       "True\n",
       "</td>\n",
       "<td align=\"center\" style=\"background-color:#92CCA6;\">\n",
       "True\n",
       "</td>\n",
       "<td align=\"center\" style=\"background-color:#92CCA6;\">\n",
       "True\n",
       "</td>\n",
       "<td align=\"center\" style=\"background-color:#92CCA6;\">\n",
       "False\n",
       "</td>\n",
       "</tr>\n",
       "</table>\n",
       "<table>\n",
       "<tr style=\"background-color:#F4F4F4;\">\n",
       "<td/>\n",
       "<th title=\"Variable name\">\n",
       "Name\n",
       "</th>\n",
       "<th title=\"Value of parameter\">\n",
       "Value\n",
       "</th>\n",
       "<th title=\"Hesse error\">\n",
       "Hesse Error\n",
       "</th>\n",
       "<th title=\"Minos lower error\">\n",
       "Minos Error-\n",
       "</th>\n",
       "<th title=\"Minos upper error\">\n",
       "Minos Error+\n",
       "</th>\n",
       "<th title=\"Lower limit of the parameter\">\n",
       "Limit-\n",
       "</th>\n",
       "<th title=\"Upper limit of the parameter\">\n",
       "Limit+\n",
       "</th>\n",
       "<th title=\"Is the parameter fixed in the fit\">\n",
       "Fixed\n",
       "</th>\n",
       "</tr>\n",
       "<tr style=\"background-color:#FFFFFF;\">\n",
       "<td>\n",
       "0\n",
       "</td>\n",
       "<td>\n",
       "n_sig\n",
       "</td>\n",
       "<td>\n",
       "990\n",
       "</td>\n",
       "<td>\n",
       "60\n",
       "</td>\n",
       "<td>\n",
       "\n",
       "</td>\n",
       "<td>\n",
       "\n",
       "</td>\n",
       "<td>\n",
       "\n",
       "</td>\n",
       "<td>\n",
       "\n",
       "</td>\n",
       "<td>\n",
       "\n",
       "</td>\n",
       "</tr>\n",
       "<tr style=\"background-color:#F4F4F4;\">\n",
       "<td>\n",
       "1\n",
       "</td>\n",
       "<td>\n",
       "n_bkg\n",
       "</td>\n",
       "<td>\n",
       "0.827E4\n",
       "</td>\n",
       "<td>\n",
       "0.010E4\n",
       "</td>\n",
       "<td>\n",
       "\n",
       "</td>\n",
       "<td>\n",
       "\n",
       "</td>\n",
       "<td>\n",
       "\n",
       "</td>\n",
       "<td>\n",
       "\n",
       "</td>\n",
       "<td>\n",
       "\n",
       "</td>\n",
       "</tr>\n",
       "<tr style=\"background-color:#FFFFFF;\">\n",
       "<td>\n",
       "2\n",
       "</td>\n",
       "<td>\n",
       "mu\n",
       "</td>\n",
       "<td>\n",
       "5.023\n",
       "</td>\n",
       "<td>\n",
       "0.027\n",
       "</td>\n",
       "<td>\n",
       "\n",
       "</td>\n",
       "<td>\n",
       "\n",
       "</td>\n",
       "<td>\n",
       "\n",
       "</td>\n",
       "<td>\n",
       "\n",
       "</td>\n",
       "<td>\n",
       "\n",
       "</td>\n",
       "</tr>\n",
       "<tr style=\"background-color:#F4F4F4;\">\n",
       "<td>\n",
       "3\n",
       "</td>\n",
       "<td>\n",
       "sigma\n",
       "</td>\n",
       "<td>\n",
       "0.456\n",
       "</td>\n",
       "<td>\n",
       "0.026\n",
       "</td>\n",
       "<td>\n",
       "\n",
       "</td>\n",
       "<td>\n",
       "\n",
       "</td>\n",
       "<td>\n",
       "\n",
       "</td>\n",
       "<td>\n",
       "\n",
       "</td>\n",
       "<td>\n",
       "\n",
       "</td>\n",
       "</tr>\n",
       "<tr style=\"background-color:#FFFFFF;\">\n",
       "<td>\n",
       "4\n",
       "</td>\n",
       "<td>\n",
       "lambd\n",
       "</td>\n",
       "<td>\n",
       "3.96\n",
       "</td>\n",
       "<td>\n",
       "0.07\n",
       "</td>\n",
       "<td>\n",
       "\n",
       "</td>\n",
       "<td>\n",
       "\n",
       "</td>\n",
       "<td>\n",
       "\n",
       "</td>\n",
       "<td>\n",
       "\n",
       "</td>\n",
       "<td>\n",
       "\n",
       "</td>\n",
       "</tr>\n",
       "</table>\n"
      ],
      "text/plain": [
       "------------------------------------------------------------------\n",
       "| FCN = -5.594E+04              |     Ncalls=122 (122 total)     |\n",
       "| EDM = 3.62E-05 (Goal: 0.0001) |            up = 0.5            |\n",
       "------------------------------------------------------------------\n",
       "|  Valid Min.   | Valid Param.  | Above EDM | Reached call limit |\n",
       "------------------------------------------------------------------\n",
       "|     True      |     True      |   False   |       False        |\n",
       "------------------------------------------------------------------\n",
       "| Hesse failed  |   Has cov.    | Accurate  | Pos. def. | Forced |\n",
       "------------------------------------------------------------------\n",
       "|     False     |     True      |   True    |   True    | False  |\n",
       "------------------------------------------------------------------\n",
       "-------------------------------------------------------------------------------------------\n",
       "|   | Name  |   Value   | Hesse Err | Minos Err- | Minos Err+ | Limit-  | Limit+  | Fixed |\n",
       "-------------------------------------------------------------------------------------------\n",
       "| 0 | n_sig |    990    |    60     |            |            |         |         |       |\n",
       "| 1 | n_bkg |  0.827E4  |  0.010E4  |            |            |         |         |       |\n",
       "| 2 | mu    |   5.023   |   0.027   |            |            |         |         |       |\n",
       "| 3 | sigma |   0.456   |   0.026   |            |            |         |         |       |\n",
       "| 4 | lambd |   3.96    |   0.07    |            |            |         |         |       |\n",
       "-------------------------------------------------------------------------------------------"
      ]
     },
     "metadata": {},
     "output_type": "display_data"
    }
   ],
   "source": [
    "from iminuit import Minuit\n",
    "import numba as nb\n",
    "\n",
    "\n",
    "# extended likelihood\n",
    "def nll(n_sig, n_bkg, mu, sigma, lambd):\n",
    "    s = norm(mu, sigma)\n",
    "    b = expon(0, lambd)\n",
    "    # normalisation factors are needed for pdfs, since x range is restricted\n",
    "    sn = np.diff(s.cdf(xrange))\n",
    "    bn = np.diff(b.cdf(xrange))\n",
    "    no = n_sig + n_bkg\n",
    "    return no - np.sum(np.log(s.pdf(m) / sn * n_sig + b.pdf(m) / bn * n_bkg))\n",
    "\n",
    "\n",
    "mi = Minuit(nll,\n",
    "            n_sig=truth_n_sig, n_bkg=truth_n_bkg,\n",
    "            mu=truth_sig_m[0], sigma=truth_sig_m[1], lambd=truth_bkg_m[0],\n",
    "            errordef=Minuit.LIKELIHOOD,\n",
    "            pedantic=False)\n",
    "\n",
    "display(mi.migrad())\n",
    "mi.hesse()\n",
    "\n",
    "par = mi.np_values()\n",
    "cov = mi.np_covariance()"
   ]
  },
  {
   "cell_type": "markdown",
   "metadata": {},
   "source": [
    "### Visualize fitted model"
   ]
  },
  {
   "cell_type": "code",
   "execution_count": 3,
   "metadata": {},
   "outputs": [
    {
     "data": {
      "image/png": "[encoded data removed]",
      "text/plain": [
       "<Figure size 432x288 with 1 Axes>"
      ]
     },
     "metadata": {
      "needs_background": "light"
     },
     "output_type": "display_data"
    }
   ],
   "source": [
    "def cdf(m):\n",
    "    n_sig, n_bkg, mu, sigma, lambd = par\n",
    "    s = norm(mu, sigma)\n",
    "    b = expon(0, lambd)\n",
    "    return n_sig * s.cdf(m) + n_bkg * b.cdf(m)\n",
    "\n",
    "\n",
    "w, xe = np.histogram(m, bins=50, range=xrange)\n",
    "cx = 0.5 * (xe[1:] + xe[:-1])\n",
    "plt.errorbar(cx, w, w ** 0.5, fmt=\"o\")\n",
    "plt.step(xe[:-1], np.diff(cdf(xe)), where=\"post\")\n",
    "plt.xlabel(\"m\");"
   ]
  },
  {
   "cell_type": "markdown",
   "metadata": {},
   "source": [
    "## Compute W matrix"
   ]
  },
  {
   "cell_type": "markdown",
   "metadata": {},
   "source": [
    "### Compute W via integration (Schmelling method)"
   ]
  },
  {
   "cell_type": "code",
   "execution_count": 4,
   "metadata": {},
   "outputs": [
    {
     "name": "stdout",
     "output_type": "stream",
     "text": [
      "W matrix\n",
      "[[4.69321315e-04 6.45531852e-05]\n",
      " [0.00000000e+00 1.13218057e-04]]\n",
      "alpha_sig = 2312.06\n",
      "alpha_bkg = -1318.26\n",
      "check that integral w_sig(m) * d_bkg(m) dm is close to zero: 2.5999341568549994e-13\n",
      "check that integral w_sig(m) * d_sig(m) dm is close to one: 0.9999999999998612\n",
      "check sum(w_s) = 994.06 is close to n_sig = 993.80\n",
      "hat_lambd_sig = 1.00 (true value is 1.0)\n"
     ]
    }
   ],
   "source": [
    "from scipy.integrate import quad\n",
    "from scipy.linalg import solve\n",
    "\n",
    "\n",
    "def d_sig(m):\n",
    "    d = norm(*par[2:4])\n",
    "    return d.pdf(m) / (d.cdf(xrange[1]) - d.cdf(xrange[0]))\n",
    "\n",
    "\n",
    "def d_bkg(m):\n",
    "    d = expon(0, par[4])\n",
    "    return d.pdf(m) / (d.cdf(xrange[1]) - d.cdf(xrange[0]))\n",
    "\n",
    "\n",
    "# compute W matrix via numerical integration\n",
    "n_sig, n_bkg = par[:2]\n",
    "W = np.zeros((2, 2))\n",
    "d = [d_sig, d_bkg]\n",
    "\n",
    "# fill upper triangle of symmetric matrix, the lower triangle is redundant\n",
    "for j, di in enumerate(d):\n",
    "    for i, dj in enumerate(d[:j+1]):\n",
    "        W[i, j] = quad(lambda m: di(m) * dj(m) / (n_sig * d_sig(m) + n_bkg * d_bkg(m)),\n",
    "                       *xrange)[0]\n",
    "\n",
    "print(\"W matrix\")\n",
    "print(W)\n",
    "\n",
    "# this uses only the upper triangle\n",
    "alpha, beta = solve(W, np.eye(2), sym_pos=True)\n",
    "print(f\"alpha_sig = {alpha[0]:.2f}\")\n",
    "print(f\"alpha_bkg = {alpha[1]:.2f}\")\n",
    "\n",
    "\n",
    "def w_sig(m):\n",
    "    return ((alpha[0] * d_sig(m) + alpha[1] * d_bkg(m)) /\n",
    "            (n_sig * d_sig(m) + n_bkg * d_bkg(m)))\n",
    "\n",
    "\n",
    "w_s_integration = w_sig(m)\n",
    "\n",
    "print(\"check that integral w_sig(m) * d_bkg(m) dm is close to zero:\",\n",
    "      quad(lambda m: d_bkg(m) * w_sig(m), *xrange)[0])\n",
    "print(\"check that integral w_sig(m) * d_sig(m) dm is close to one:\",\n",
    "      quad(lambda m: d_sig(m) * w_sig(m), *xrange)[0])\n",
    "print(f\"check sum(w_s) = {np.sum(w_s_integration):.2f} is close to n_sig = {n_sig:.2f}\")\n",
    "\n",
    "# weighted maximum-likelihood estimator for parameter of exponential signal in t\n",
    "hat_lambd_sig = np.sum(t * w_s_integration) / np.sum(w_s_integration)\n",
    "print(f\"hat_lambd_sig = {hat_lambd_sig:.2f} (true value is {truth_sig_t[0]})\")"
   ]
  },
  {
   "cell_type": "markdown",
   "metadata": {},
   "source": [
    "### Compute via summation (classic sPlot)\n",
    "\n",
    "This is using Eq. 10 of the [original sPlot paper](https://doi.org/10.1016/j.nima.2005.08.106), which is the same as the integration method with the [empirical pdf](https://en.wikipedia.org/wiki/Empirical_distribution_function) weighted with the inverse of the probability density inserted, which produces a uniform importance sampling of the integral:\n",
    "\n",
    "$$\n",
    "\\frac{1}{N} \\sum_i \\frac{\\delta(m - m_i)}{n_\\mathrm{sig} d_\\mathrm{sig}(m) + n_\\mathrm{bkg} d_\\mathrm{bkg}(m)}\n",
    "$$\n",
    "\n",
    "This calculation avoid the numerical integration and any associated numerical issues, but has lower accuracy than numerical integration."
   ]
  },
  {
   "cell_type": "code",
   "execution_count": 5,
   "metadata": {},
   "outputs": [
    {
     "name": "stdout",
     "output_type": "stream",
     "text": [
      "W matrix\n",
      "[[4.69269478e-04 6.45745533e-05]\n",
      " [0.00000000e+00 1.13218337e-04]]\n",
      "alpha_sig = 2312.46\n",
      "alpha_bkg = -1318.92\n",
      "beta_sig = -1318.92\n",
      "beta_bkg = 9584.75\n",
      "check: integral w_sig(m) * d_bkg(m) dm is close to zero: -4.904369546685286e-05\n",
      "check: integral w_sig(m) * d_sig(m) dm is close to one: 1.0001480523954607\n",
      "check: sum(w_s) = 993.80 is close to n_sig = 993.80\n",
      "hat_lambd_sig = 0.99 (true value is 1.0)\n"
     ]
    }
   ],
   "source": [
    "# compute W matrix without numerical integration\n",
    "W = np.zeros((2, 2))\n",
    "\n",
    "# fill upper triangle of symmetric matrix, the lower triangle is redundant\n",
    "for j, di in enumerate(d):\n",
    "    for i, dj in enumerate(d[:j+1]):\n",
    "        W[i, j] = np.sum(\n",
    "            di(m) * dj(m) / (n_sig * d_sig(m) + n_bkg * d_bkg(m))**2)\n",
    "\n",
    "print(\"W matrix\")\n",
    "print(W)\n",
    "\n",
    "# this uses only the upper triangle\n",
    "alpha, beta = solve(W, np.eye(2), sym_pos=True)\n",
    "print(f\"alpha_sig = {alpha[0]:.2f}\")\n",
    "print(f\"alpha_bkg = {alpha[1]:.2f}\")\n",
    "print(f\"beta_sig = {beta[0]:.2f}\")\n",
    "print(f\"beta_bkg = {beta[1]:.2f}\")\n",
    "\n",
    "\n",
    "def w_sig(m):\n",
    "    return ((alpha[0] * d_sig(m) + alpha[1] * d_bkg(m)) /\n",
    "            (n_sig * d_sig(m) + n_bkg * d_bkg(m)))\n",
    "\n",
    "\n",
    "def w_bkg(m):\n",
    "    return ((beta[0] * d_sig(m) + beta[1] * d_bkg(m)) /\n",
    "            (n_sig * d_sig(m) + n_bkg * d_bkg(m)))\n",
    "\n",
    "\n",
    "w_s_sum = w_sig(m)\n",
    "\n",
    "print(\"check: integral w_sig(m) * d_bkg(m) dm is close to zero:\",\n",
    "      quad(lambda m: d_bkg(m) * w_sig(m), *xrange)[0])\n",
    "print(\"check: integral w_sig(m) * d_sig(m) dm is close to one:\",\n",
    "      quad(lambda m: d_sig(m) * w_sig(m), *xrange)[0])\n",
    "print(\n",
    "    f\"check: sum(w_s) = {np.sum(w_s_sum):.2f} is close to n_sig = {n_sig:.2f}\")\n",
    "\n",
    "# weighted maximum-likelihood estimator for parameter of exponential signal in t\n",
    "hat_lambd_sig = np.sum(t * w_s_sum) / np.sum(w_s_sum)\n",
    "print(f\"hat_lambd_sig = {hat_lambd_sig:.2f} (true value is {truth_sig_t[0]})\")"
   ]
  },
  {
   "cell_type": "markdown",
   "metadata": {},
   "source": [
    "While we find that the numerical checks of orthonormality produce less accurate results, this method reproduces the original fit result with the highest accuracy as can be seen from `sum(w_s_sum) == n_sig`. In practice, the accuracy is good enough unless the event sample is very small."
   ]
  },
  {
   "cell_type": "markdown",
   "metadata": {},
   "source": [
    "### Visualize results"
   ]
  },
  {
   "cell_type": "code",
   "execution_count": 6,
   "metadata": {
    "scrolled": true
   },
   "outputs": [
    {
     "data": {
      "image/png": "[encoded data removed]",
      "text/plain": [
       "<Figure size 1008x288 with 2 Axes>"
      ]
     },
     "metadata": {
      "needs_background": "light"
     },
     "output_type": "display_data"
    }
   ],
   "source": [
    "fig, ax = plt.subplots(1, 2, figsize=(14, 4))\n",
    "plt.sca(ax[0])\n",
    "m1 = np.linspace(*xrange, 200)\n",
    "plt.plot(m1, w_sig(m1), label=\"$w_\\\\mathrm{sig}$\")\n",
    "plt.plot(m1, w_bkg(m1), label=\"$w_\\\\mathrm{bkg}$\")\n",
    "plt.plot(m1, w_sig(m1) + w_bkg(m1), \"-k\")\n",
    "plt.axhline(0, color=\"0.5\")\n",
    "plt.legend()\n",
    "plt.sca(ax[1])\n",
    "_, xe, *_ = plt.hist(t, bins=50, range=xrange, weights=w_s_sum,\n",
    "                     label=\"weighted histogram\")\n",
    "t1 = np.linspace(*xrange)\n",
    "tcdf = expon(0, hat_lambd_sig).cdf(xe)\n",
    "plt.step(xe[:-1], np.diff(tcdf) * np.sum(w_s_sum), where=\"post\",\n",
    "         label=\"model with $\\hat\\lambda_\\\\mathrm{sig}$\")\n",
    "plt.xlabel(\"t\")\n",
    "plt.legend();"
   ]
  },
  {
   "cell_type": "markdown",
   "metadata": {},
   "source": [
    "## Compute sWeights from covariance matrix\n",
    "\n",
    "The [original sPlot paper](https://doi.org/10.1016/j.nima.2005.08.106) already mentions a shortcut to obtain the sWeights, by using the covariance matrix of a fit, but they also note that this calculation **is less accurate than the direct calculation** shown before. This means the other calculation methods should be preferred.\n",
    "\n",
    "In practice, it is common to redo the fit with all parameters fixed, except the yields, to obtain the right covariance matrix. That is not necessary. We show here that the same result can be obtained from the original covariance matrix. Steps:\n",
    "\n",
    "* Invert full covariance matrix\n",
    "* Cut out the (2 x 2) sub-matrix of yields\n",
    "* Invert sub-matrix\n",
    "\n",
    "The matrix obtained in this way is identical to one obtained from a fit with the other parameters fixed (up to numerical errors)."
   ]
  },
  {
   "cell_type": "code",
   "execution_count": 7,
   "metadata": {},
   "outputs": [
    {
     "name": "stdout",
     "output_type": "stream",
     "text": [
      "covariance matrix from re-fit\n",
      " [[ 2311.27892277 -1312.3386796 ]\n",
      " [-1312.3386796   9578.11924785]]\n",
      "covariance matrix from sub-hessian\n",
      " [[ 2310.41637914 -1310.9744965 ]\n",
      " [-1310.9744965   9576.34664259]]\n"
     ]
    }
   ],
   "source": [
    "# classic way: fit again with all parameters except yields fixed\n",
    "for i in range(len(mi.args)):\n",
    "    mi.fixed[i] = i >= 2\n",
    "mi.migrad()\n",
    "cov_refit = mi.np_matrix()\n",
    "\n",
    "print(\"covariance matrix from re-fit\\n\", cov_refit)\n",
    "\n",
    "# better way: extract sub-matrix without re-fitting\n",
    "inv_cov = np.linalg.inv(cov)\n",
    "cov_subhessian = np.linalg.inv(inv_cov[:2, :2])\n",
    "\n",
    "print(\"covariance matrix from sub-hessian\\n\", cov_subhessian)"
   ]
  },
  {
   "cell_type": "code",
   "execution_count": 8,
   "metadata": {},
   "outputs": [],
   "source": [
    "w_s_refit = (cov_refit[0, 0] * d[0](m) + cov_refit[0, 1] * d[1](m)) / (n_sig * d[0](m) + n_bkg * d[1](m))\n",
    "w_s_subhessian = (cov_subhessian[0, 0] * d[0](m) + cov_subhessian[0, 1] * d[1](m)) / (n_sig * d[0](m) + n_bkg * d[1](m))"
   ]
  },
  {
   "cell_type": "code",
   "execution_count": 9,
   "metadata": {},
   "outputs": [
    {
     "name": "stdout",
     "output_type": "stream",
     "text": [
      "n_sig from original fit              993.7988387239785\n",
      "sum(w_s) [obtained from integration] 994.0570585856073\n",
      "sum(w_s) [obtained from summation]   993.7988387239791\n",
      "sum(w_s) [obtained from re-fit]      999.1985050536103\n",
      "sum(w_s) [obtained from sub-hessian] 999.7000687383012\n"
     ]
    }
   ],
   "source": [
    "print(\"n_sig from original fit             \", n_sig)\n",
    "print(\"sum(w_s) [obtained from integration]\", np.sum(w_s_integration))\n",
    "print(\"sum(w_s) [obtained from summation]  \", np.sum(w_s_sum))\n",
    "print(\"sum(w_s) [obtained from re-fit]     \", np.sum(w_s_refit))\n",
    "print(\"sum(w_s) [obtained from sub-hessian]\", np.sum(w_s_subhessian))"
   ]
  },
  {
   "cell_type": "markdown",
   "metadata": {},
   "source": [
    "The results are similar, but we find deviations in the normalization of sWeights. The sWeights from summation are recommended because they best reproduce the yield obtained from the original fit, which is self-consistent. This computation is also straight-forward and the recommended method of calculation from the original sPlot paper."
   ]
  },
  {
   "cell_type": "markdown",
   "metadata": {},
   "source": [
    "## Test of zero correlation is not a test of independence\n",
    "\n",
    "Applying the sWeights method requires a factorization (independence) of the two variables m and t in signal and background. Instead of a proper test of independence, the correlation of the two variables is often checked.\n",
    "\n",
    "Zero correlation is a necessary but not sufficient condition for independence."
   ]
  },
  {
   "cell_type": "code",
   "execution_count": 10,
   "metadata": {},
   "outputs": [
    {
     "data": {
      "text/plain": [
       "-0.07982981900398102"
      ]
     },
     "execution_count": 10,
     "metadata": {},
     "output_type": "execute_result"
    }
   ],
   "source": [
    "# correlation of m and t in this example\n",
    "np.cov(m, t)[0, 1] / np.sqrt(np.var(m) * np.var(t))"
   ]
  },
  {
   "cell_type": "code",
   "execution_count": null,
   "metadata": {},
   "outputs": [],
   "source": []
  }
 ],
 "metadata": {
  "kernelspec": {
   "display_name": "Python 3",
   "language": "python",
   "name": "python3"
  },
  "language_info": {
   "codemirror_mode": {
    "name": "ipython",
    "version": 3
   },
   "file_extension": ".py",
   "mimetype": "text/x-python",
   "name": "python",
   "nbconvert_exporter": "python",
   "pygments_lexer": "ipython3",
   "version": "3.8.2"
  }
 },
 "nbformat": 4,
 "nbformat_minor": 4
}
