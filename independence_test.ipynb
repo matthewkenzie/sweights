{
 "cells": [
  {
   "cell_type": "code",
   "execution_count": 6,
   "metadata": {},
   "outputs": [
    {
     "name": "stdout",
     "output_type": "stream",
     "text": [
      "[0, 1, 2, 3, 4, 5, 6, 7, 8, 9]\n",
      "[9, 8, 7, 6, 5, 4, 3, 2, 1, 0]\n",
      "(1.0, 0.31622776601683794)\n",
      "(1.0, 0.31622776601683794)\n",
      "(-1.0, 0.31622776601683794)\n",
      "(-1.0, 0.31622776601683794)\n",
      "(-0.005158675867586758, 0.01)\n"
     ]
    }
   ],
   "source": [
    "## Kendall rank coeffienct\n",
    "import numpy as np\n",
    "\n",
    "def kendall_tau(x,y):\n",
    "    assert(len(x)==len(y))\n",
    "    factor = 2./(len(x)*(len(x)-1))\n",
    "    su = 0.\n",
    "    for i in range(len(x)):\n",
    "        for j in range(i,len(x)):\n",
    "            su += np.sign(x[i]-x[j])*np.sign(y[i]-y[j])\n",
    "            \n",
    "    err_approx = 1./np.sqrt(len(x))\n",
    "    return (factor*su, err_approx)\n",
    "\n",
    "a = list(range(10))\n",
    "b = list(reversed(range(10)))\n",
    "\n",
    "print(a)\n",
    "print(b)\n",
    "\n",
    "print(kendall_tau(a,a))\n",
    "print(kendall_tau(b,b))\n",
    "print(kendall_tau(a,b))\n",
    "print(kendall_tau(b,a))\n",
    "\n",
    "x = np.random.uniform(size=10000)\n",
    "y = np.random.uniform(size=10000)\n",
    "\n",
    "print(kendall_tau(x,y))\n",
    "            "
   ]
  },
  {
   "cell_type": "code",
   "execution_count": null,
   "metadata": {},
   "outputs": [],
   "source": []
  }
 ],
 "metadata": {
  "kernelspec": {
   "display_name": "Python 3",
   "language": "python",
   "name": "python3"
  },
  "language_info": {
   "codemirror_mode": {
    "name": "ipython",
    "version": 3
   },
   "file_extension": ".py",
   "mimetype": "text/x-python",
   "name": "python",
   "nbconvert_exporter": "python",
   "pygments_lexer": "ipython3",
   "version": "3.7.6"
  }
 },
 "nbformat": 4,
 "nbformat_minor": 4
}
